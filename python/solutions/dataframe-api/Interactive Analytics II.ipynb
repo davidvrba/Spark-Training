{
 "cells": [
  {
   "cell_type": "markdown",
   "id": "6481513d-1f11-44da-a24e-c5e2b3dac6c9",
   "metadata": {},
   "source": [
    "## Compute and visualize the response time\n",
    "\n",
    "* Compute the response time\n",
    "  * for each question compute the time it took to have accepted answer\n",
    "  * consider only questions with accepted answer\n",
    "* Plot number of answered questions as a function of response time\n",
    "  * choose hour as the time unit\n",
    "  * create a bar chart (too see how many questions were answered within first hour, within second hour and so on)\n",
    "  * plot a cumulative sum (too see for example how many questions in total were answered within first 10 hours and so on)"
   ]
  },
  {
   "cell_type": "code",
   "execution_count": null,
   "id": "73c6ccf7-ce9e-4e58-a347-ba4785692c44",
   "metadata": {},
   "outputs": [],
   "source": [
    "from pyspark.sql import SparkSession\n",
    "from pyspark.sql.functions import col, count, unix_timestamp, ceil\n",
    "\n",
    "import os\n",
    "import matplotlib.pyplot as plt"
   ]
  },
  {
   "cell_type": "code",
   "execution_count": null,
   "id": "d0b5df8d-128c-4657-b31c-97937d858e3e",
   "metadata": {},
   "outputs": [],
   "source": [
    "spark = (\n",
    "    SparkSession\n",
    "    .builder\n",
    "    .appName('Interactive Analytics I')\n",
    "    .getOrCreate()\n",
    ")"
   ]
  },
  {
   "cell_type": "code",
   "execution_count": null,
   "id": "d1c18142-0ca5-4a40-8aef-9237a10051a3",
   "metadata": {},
   "outputs": [],
   "source": [
    "base_path = os.getcwd()\n",
    "\n",
    "project_path = ('/').join(base_path.split('/')[0:-3]) \n",
    "\n",
    "answers_input_path = os.path.join(project_path, 'data/answers')\n",
    "\n",
    "questions_input_path = os.path.join(project_path, 'data/questions-json')"
   ]
  },
  {
   "cell_type": "code",
   "execution_count": null,
   "id": "c79132a5-7a86-4b2a-a14d-23729c8e98d3",
   "metadata": {},
   "outputs": [],
   "source": [
    "answersDF = (\n",
    "    spark\n",
    "    .read\n",
    "    .option('path', answers_input_path)\n",
    "    .load()\n",
    ")"
   ]
  },
  {
   "cell_type": "code",
   "execution_count": null,
   "id": "9a55554d-0732-4d8d-bce7-f3ea7c82476a",
   "metadata": {},
   "outputs": [],
   "source": [
    "questionsDF = (\n",
    "    spark\n",
    "    .read\n",
    "    .format('json')\n",
    "    .option('path', questions_input_path)\n",
    "    .load()\n",
    ")"
   ]
  },
  {
   "cell_type": "markdown",
   "id": "2fdcde9a-daf5-4903-8338-18b95bbffc00",
   "metadata": {},
   "source": [
    "#### Compute response time:\n",
    "\n",
    "For each question compute how long it took to get accepted answer. Consider only questions that actually have accepted answers.\n",
    "\n",
    "Hint:\n",
    "* for each question and answer we now the time when it was created (`created_date`)\n",
    "* [join](https://spark.apache.org/docs/latest/api/python/reference/pyspark.sql/api/pyspark.sql.DataFrame.join.html#pyspark.sql.DataFrame.join) questions with answers (use `accepted_answer_id` field in the join)\n",
    "* use [unix_timestamp](https://spark.apache.org/docs/latest/api/python/reference/pyspark.sql/api/pyspark.sql.functions.unix_timestamp.html#pyspark.sql.functions.unix_timestamp) to compare the times (or cast it to long)\n",
    "* convert to hours\n",
    "* [ceil](https://spark.apache.org/docs/latest/api/python/reference/pyspark.sql/api/pyspark.sql.functions.ceil.html#pyspark.sql.functions.ceil) the numbers"
   ]
  },
  {
   "cell_type": "code",
   "execution_count": null,
   "id": "4b24f155-4746-423a-a4c3-95408daaf21c",
   "metadata": {},
   "outputs": [],
   "source": [
    "hourly_data = (\n",
    "    questionsDF.withColumn('creation_date', col('creation_date').cast('timestamp')).alias('questions')\n",
    "    .join(answersDF.alias('answers'), questionsDF['accepted_answer_id'] == answersDF['answer_id'])\n",
    "    .select(\n",
    "        col('questions.creation_date').alias('question_time'),\n",
    "        col('answers.creation_date').alias('answer_time')\n",
    "    )\n",
    "    .withColumn('response_time', unix_timestamp('answer_time') - unix_timestamp('question_time'))\n",
    "    .filter(col('response_time') > 0)\n",
    "    .withColumn('hours', ceil(col('response_time') / 3600))\n",
    ")"
   ]
  },
  {
   "cell_type": "markdown",
   "id": "06ae60a4-d719-4ee3-8059-823319371407",
   "metadata": {},
   "source": [
    "#### Aggregate the data and visualise:\n",
    "\n",
    "Hint:\n",
    "* group by hour\n",
    "* count\n",
    "* convert to Pandas\n",
    "* visualize (take first 24 hours to get rid of the long tail)"
   ]
  },
  {
   "cell_type": "code",
   "execution_count": null,
   "id": "3e5f21bf-4215-400d-8ba6-f6ab9a01fde9",
   "metadata": {},
   "outputs": [],
   "source": [
    "hourly_data_grouped = (\n",
    "    hourly_data\n",
    "    .groupBy('hours')\n",
    "    .agg(count('*').alias('cnt'))\n",
    "    .orderBy('hours')\n",
    ")"
   ]
  },
  {
   "cell_type": "code",
   "execution_count": null,
   "id": "d53c689a-62a3-4257-b1e8-d81ef22d4828",
   "metadata": {},
   "outputs": [],
   "source": [
    "hourly_data_local = hourly_data_grouped.limit(24).toPandas()"
   ]
  },
  {
   "cell_type": "code",
   "execution_count": null,
   "id": "133de219-b424-4684-9822-097538d5b690",
   "metadata": {},
   "outputs": [],
   "source": [
    "# inspect the data localy:\n",
    "\n",
    "hourly_data_local.head(5)"
   ]
  },
  {
   "cell_type": "markdown",
   "id": "1f15e02f-bdde-4f2c-8c7c-7886dc0dfd2c",
   "metadata": {},
   "source": [
    "For bar chart you can use df.plot.bar"
   ]
  },
  {
   "cell_type": "code",
   "execution_count": null,
   "id": "7c4e10b8-f5c5-4d63-ba3f-81f8986bde41",
   "metadata": {},
   "outputs": [],
   "source": [
    "hourly_data_local.plot(\n",
    "    x='hours', y='cnt', figsize=(12, 6), \n",
    "    title='Response time of questions',\n",
    "    legend=False,\n",
    "    kind='bar',\n",
    "    xlabel='Hour',\n",
    "    ylabel='Number of answered questions'\n",
    ")\n",
    "plt.show()"
   ]
  },
  {
   "cell_type": "markdown",
   "id": "93af726f-8b38-4de3-ad01-cd58d6bf234a",
   "metadata": {},
   "source": [
    "#### Note\n",
    "\n",
    "As you can see, big portion of the questions that have accepted answer were answered within the first hour."
   ]
  },
  {
   "cell_type": "markdown",
   "id": "185d2b93-7f2a-4216-9015-f315ee5bc53d",
   "metadata": {},
   "source": [
    "#### Cumulative sum\n",
    "\n",
    "* To compute cumulative sum you can use [cumsum()](https://pandas.pydata.org/docs/reference/api/pandas.DataFrame.cumsum.html)\n",
    "* add new col to the Pandas DataFrame as df['new_col'] = df['cnt'].cumsum()"
   ]
  },
  {
   "cell_type": "code",
   "execution_count": null,
   "id": "97bf9ebd-5200-4950-82c3-48e43a209388",
   "metadata": {},
   "outputs": [],
   "source": [
    "hourly_data_local['cumsum'] = hourly_data_local['cnt'].cumsum()\n",
    "\n",
    "hourly_data_local.plot(\n",
    "    x='hours',\n",
    "    y='cumsum',\n",
    "    figsize=(12, 6),\n",
    "    title='Cumulative size of answered questions',\n",
    "    xlabel='Hour',\n",
    "    ylabel='Number of answered questions',\n",
    "    legend=False\n",
    ")\n",
    "plt.show()"
   ]
  },
  {
   "cell_type": "code",
   "execution_count": null,
   "id": "17648534-c14f-4ce3-a360-13a4a1762bc7",
   "metadata": {},
   "outputs": [],
   "source": [
    "spark.stop()"
   ]
  }
 ],
 "metadata": {
  "kernelspec": {
   "display_name": "Python 3 (ipykernel)",
   "language": "python",
   "name": "python3"
  },
  "language_info": {
   "codemirror_mode": {
    "name": "ipython",
    "version": 3
   },
   "file_extension": ".py",
   "mimetype": "text/x-python",
   "name": "python",
   "nbconvert_exporter": "python",
   "pygments_lexer": "ipython3",
   "version": "3.11.0"
  }
 },
 "nbformat": 4,
 "nbformat_minor": 5
}
